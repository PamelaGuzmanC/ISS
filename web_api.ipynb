{
 "cells": [
  {
   "cell_type": "code",
   "execution_count": 2,
   "metadata": {},
   "outputs": [],
   "source": [
    "import requests\n",
    "import json\n",
    "from pprint import pprint"
   ]
  },
  {
   "cell_type": "code",
   "execution_count": 3,
   "metadata": {},
   "outputs": [],
   "source": [
    "# Making a GET request to the API with specified parameters\n",
    "response = requests.get(\"https://api.randomuser.me/?results=5&gender=male&nat=US\")"
   ]
  },
  {
   "cell_type": "code",
   "execution_count": 4,
   "metadata": {},
   "outputs": [
    {
     "name": "stdout",
     "output_type": "stream",
     "text": [
      "200\n"
     ]
    }
   ],
   "source": [
    "# Print the status code of the request\n",
    "print(response.status_code)"
   ]
  },
  {
   "cell_type": "code",
   "execution_count": 11,
   "metadata": {},
   "outputs": [],
   "source": [
    "parameters ={\n",
    "    \"results\":10,\n",
    "    \"gender\":\"male\"\n",
    "}"
   ]
  },
  {
   "cell_type": "code",
   "execution_count": 13,
   "metadata": {},
   "outputs": [],
   "source": [
    "response = requests.get(\"https://api.randomuser.me/\",params=parameters)"
   ]
  },
  {
   "cell_type": "code",
   "execution_count": 9,
   "metadata": {},
   "outputs": [],
   "source": [
    "parameters = {\"lat\": 37.78, \"lon\": -122.41}"
   ]
  },
  {
   "cell_type": "code",
   "execution_count": 10,
   "metadata": {},
   "outputs": [],
   "source": [
    "response = requests.get(\"http://api.open-notify.org/iss-pass.json\", params=parameters)\n",
    "response = requests.get(\"http://api.open-notify.org/iss-pass.json?lat=37.78&lon=-122.41\")"
   ]
  },
  {
   "cell_type": "code",
   "execution_count": 7,
   "metadata": {},
   "outputs": [
    {
     "data": {
      "text/plain": [
       "'<html>\\r\\n<head><title>404 Not Found</title></head>\\r\\n<body bgcolor=\"white\">\\r\\n<center><h1>404 Not Found</h1></center>\\r\\n<hr><center>nginx/1.10.3</center>\\r\\n</body>\\r\\n</html>\\r\\n'"
      ]
     },
     "execution_count": 7,
     "metadata": {},
     "output_type": "execute_result"
    }
   ],
   "source": [
    "response.text"
   ]
  },
  {
   "cell_type": "code",
   "execution_count": 14,
   "metadata": {},
   "outputs": [],
   "source": [
    "data = json.loads(response.text)"
   ]
  },
  {
   "cell_type": "code",
   "execution_count": 16,
   "metadata": {},
   "outputs": [
    {
     "data": {
      "text/plain": [
       "dict"
      ]
     },
     "execution_count": 16,
     "metadata": {},
     "output_type": "execute_result"
    }
   ],
   "source": [
    "type(data)"
   ]
  },
  {
   "cell_type": "code",
   "execution_count": 17,
   "metadata": {},
   "outputs": [
    {
     "data": {
      "text/plain": [
       "{'results': [{'gender': 'male',\n",
       "   'name': {'title': 'Mr', 'first': 'Bently', 'last': 'Lo'},\n",
       "   'location': {'street': {'number': 5683, 'name': 'Dalhousie Ave'},\n",
       "    'city': 'Sutton',\n",
       "    'state': 'Ontario',\n",
       "    'country': 'Canada',\n",
       "    'postcode': 'K0I 0K3',\n",
       "    'coordinates': {'latitude': '-65.0142', 'longitude': '-119.4547'},\n",
       "    'timezone': {'offset': '-4:00',\n",
       "     'description': 'Atlantic Time (Canada), Caracas, La Paz'}},\n",
       "   'email': 'bently.lo@example.com',\n",
       "   'login': {'uuid': '8495da3a-2a41-4d5d-9d82-2bc374921204',\n",
       "    'username': 'ticklishleopard214',\n",
       "    'password': 'fresh',\n",
       "    'salt': 'PkQsh3u1',\n",
       "    'md5': 'd158a4f502adcceae384b4d453af944f',\n",
       "    'sha1': '9107066df007177757f2bce788d08711d52fb21f',\n",
       "    'sha256': 'b73b8257c8f4cf636a70ab2bbf5ddc168e261fb2d67f5a14403beed8a5032d84'},\n",
       "   'dob': {'date': '1954-10-12T13:36:03.224Z', 'age': 69},\n",
       "   'registered': {'date': '2017-04-29T15:14:37.023Z', 'age': 7},\n",
       "   'phone': 'F42 Q10-1029',\n",
       "   'cell': 'N84 O60-1483',\n",
       "   'id': {'name': 'SIN', 'value': '928502301'},\n",
       "   'picture': {'large': 'https://randomuser.me/api/portraits/men/80.jpg',\n",
       "    'medium': 'https://randomuser.me/api/portraits/med/men/80.jpg',\n",
       "    'thumbnail': 'https://randomuser.me/api/portraits/thumb/men/80.jpg'},\n",
       "   'nat': 'CA'},\n",
       "  {'gender': 'male',\n",
       "   'name': {'title': 'Mr', 'first': 'Alvin', 'last': 'Murray'},\n",
       "   'location': {'street': {'number': 4398, 'name': 'Saddle Dr'},\n",
       "    'city': 'Burkburnett',\n",
       "    'state': 'Utah',\n",
       "    'country': 'United States',\n",
       "    'postcode': 16395,\n",
       "    'coordinates': {'latitude': '84.5571', 'longitude': '5.6413'},\n",
       "    'timezone': {'offset': '0:00',\n",
       "     'description': 'Western Europe Time, London, Lisbon, Casablanca'}},\n",
       "   'email': 'alvin.murray@example.com',\n",
       "   'login': {'uuid': 'd79b027d-5302-4984-b2e9-b80321910dd6',\n",
       "    'username': 'angrywolf929',\n",
       "    'password': '1234abcd',\n",
       "    'salt': '44yJFNI9',\n",
       "    'md5': '48a2fa71b5b2dca1a927c9e8259091e2',\n",
       "    'sha1': 'f23eb7f278d1ddd0222359498e4de76644485f4e',\n",
       "    'sha256': '5a2a677bb29bde653a46c5b05c8b161d39c2bf920a74346d44206ba8521ca60c'},\n",
       "   'dob': {'date': '1948-06-14T02:29:46.932Z', 'age': 75},\n",
       "   'registered': {'date': '2012-04-03T14:20:55.259Z', 'age': 12},\n",
       "   'phone': '(418) 867-5954',\n",
       "   'cell': '(714) 287-9877',\n",
       "   'id': {'name': 'SSN', 'value': '155-30-5178'},\n",
       "   'picture': {'large': 'https://randomuser.me/api/portraits/men/16.jpg',\n",
       "    'medium': 'https://randomuser.me/api/portraits/med/men/16.jpg',\n",
       "    'thumbnail': 'https://randomuser.me/api/portraits/thumb/men/16.jpg'},\n",
       "   'nat': 'US'},\n",
       "  {'gender': 'male',\n",
       "   'name': {'title': 'Monsieur', 'first': 'Éric', 'last': 'Schmitt'},\n",
       "   'location': {'street': {'number': 4532, 'name': 'Place du 8 Février 1962'},\n",
       "    'city': 'Cham',\n",
       "    'state': 'Jura',\n",
       "    'country': 'Switzerland',\n",
       "    'postcode': 7696,\n",
       "    'coordinates': {'latitude': '25.3914', 'longitude': '-6.6019'},\n",
       "    'timezone': {'offset': '-8:00',\n",
       "     'description': 'Pacific Time (US & Canada)'}},\n",
       "   'email': 'eric.schmitt@example.com',\n",
       "   'login': {'uuid': '9d740858-4487-43a2-a986-d11a0e2f6be1',\n",
       "    'username': 'whitewolf216',\n",
       "    'password': 'karma',\n",
       "    'salt': 'AOtcpV2W',\n",
       "    'md5': '035ce9dc12957833a65b57bc43c1723e',\n",
       "    'sha1': '30451dff2e1fe27f4d1328899742cd2362d98c05',\n",
       "    'sha256': '2f98c18fae76cc6f2fc574f7b30034dd2572a0d0d75ea870cb20b673d747db79'},\n",
       "   'dob': {'date': '1961-04-27T15:29:00.688Z', 'age': 63},\n",
       "   'registered': {'date': '2012-06-06T12:18:09.891Z', 'age': 11},\n",
       "   'phone': '075 127 93 01',\n",
       "   'cell': '078 290 45 14',\n",
       "   'id': {'name': 'AVS', 'value': '756.0962.9033.55'},\n",
       "   'picture': {'large': 'https://randomuser.me/api/portraits/men/23.jpg',\n",
       "    'medium': 'https://randomuser.me/api/portraits/med/men/23.jpg',\n",
       "    'thumbnail': 'https://randomuser.me/api/portraits/thumb/men/23.jpg'},\n",
       "   'nat': 'CH'},\n",
       "  {'gender': 'male',\n",
       "   'name': {'title': 'Mr', 'first': 'Manuel', 'last': 'Melgar'},\n",
       "   'location': {'street': {'number': 751, 'name': 'Prolongación Anguiano'},\n",
       "    'city': 'Bachoco',\n",
       "    'state': 'San Luis Potosí',\n",
       "    'country': 'Mexico',\n",
       "    'postcode': 99460,\n",
       "    'coordinates': {'latitude': '45.7981', 'longitude': '23.9129'},\n",
       "    'timezone': {'offset': '-11:00', 'description': 'Midway Island, Samoa'}},\n",
       "   'email': 'manuel.melgar@example.com',\n",
       "   'login': {'uuid': 'd907f37a-108d-4e42-8fb2-cda56483d116',\n",
       "    'username': 'bigbear549',\n",
       "    'password': 'solo',\n",
       "    'salt': 'sDBmewhd',\n",
       "    'md5': 'db219351d26d72e7f64335f283ec9a73',\n",
       "    'sha1': '69c07e66e9e6257f7846194110defefff3e530fe',\n",
       "    'sha256': '15d221aa1f85a886516fbe4a0c3785f71911ee96f7fa51af0760300f0a33918b'},\n",
       "   'dob': {'date': '1991-02-07T12:14:13.488Z', 'age': 33},\n",
       "   'registered': {'date': '2009-08-17T00:47:51.165Z', 'age': 14},\n",
       "   'phone': '(637) 610 2701',\n",
       "   'cell': '(693) 316 2440',\n",
       "   'id': {'name': 'NSS', 'value': '91 91 15 0686 9'},\n",
       "   'picture': {'large': 'https://randomuser.me/api/portraits/men/39.jpg',\n",
       "    'medium': 'https://randomuser.me/api/portraits/med/men/39.jpg',\n",
       "    'thumbnail': 'https://randomuser.me/api/portraits/thumb/men/39.jpg'},\n",
       "   'nat': 'MX'},\n",
       "  {'gender': 'male',\n",
       "   'name': {'title': 'Mr', 'first': 'Isaiah', 'last': 'Lawrence'},\n",
       "   'location': {'street': {'number': 4953, 'name': 'Lone Wolf Trail'},\n",
       "    'city': 'Albury',\n",
       "    'state': 'Queensland',\n",
       "    'country': 'Australia',\n",
       "    'postcode': 5822,\n",
       "    'coordinates': {'latitude': '44.6507', 'longitude': '148.0684'},\n",
       "    'timezone': {'offset': '-10:00', 'description': 'Hawaii'}},\n",
       "   'email': 'isaiah.lawrence@example.com',\n",
       "   'login': {'uuid': 'c579c133-f292-414b-9322-0b62524e02fd',\n",
       "    'username': 'crazypeacock850',\n",
       "    'password': 'asdf123',\n",
       "    'salt': '9OTYdgXC',\n",
       "    'md5': '3d93d780b5e483124e25ff90ce2008ad',\n",
       "    'sha1': 'e17cb4e842b883be1602b2a933ab195e98ff9533',\n",
       "    'sha256': 'b58bd11b5a198ba1122543c4428486b5ff5c5aea831aa25d34cb621d56d37707'},\n",
       "   'dob': {'date': '1946-04-11T10:31:25.748Z', 'age': 78},\n",
       "   'registered': {'date': '2016-01-27T13:36:33.596Z', 'age': 8},\n",
       "   'phone': '01-1318-5203',\n",
       "   'cell': '0448-919-671',\n",
       "   'id': {'name': 'TFN', 'value': '356690438'},\n",
       "   'picture': {'large': 'https://randomuser.me/api/portraits/men/24.jpg',\n",
       "    'medium': 'https://randomuser.me/api/portraits/med/men/24.jpg',\n",
       "    'thumbnail': 'https://randomuser.me/api/portraits/thumb/men/24.jpg'},\n",
       "   'nat': 'AU'},\n",
       "  {'gender': 'male',\n",
       "   'name': {'title': 'Mr', 'first': 'Vognedar', 'last': 'Yarmolenko'},\n",
       "   'location': {'street': {'number': 3887, 'name': 'Kopaygorodska'},\n",
       "    'city': 'Hrustalniy',\n",
       "    'state': 'Mikolayivska',\n",
       "    'country': 'Ukraine',\n",
       "    'postcode': 24083,\n",
       "    'coordinates': {'latitude': '49.6542', 'longitude': '101.1133'},\n",
       "    'timezone': {'offset': '+3:30', 'description': 'Tehran'}},\n",
       "   'email': 'vognedar.yarmolenko@example.com',\n",
       "   'login': {'uuid': 'cfb2bf96-8d79-4aeb-9e9b-a7cb2257bc4b',\n",
       "    'username': 'yellowbutterfly686',\n",
       "    'password': 'bennett',\n",
       "    'salt': 'M3CjSDue',\n",
       "    'md5': '1f939dc85cb2ddb7dc05def392a43a31',\n",
       "    'sha1': 'f280cb2461fe9f4053fe4610a6e69d6a3058a56e',\n",
       "    'sha256': '82d33d3566f1644aab758dc15d3d3c4fa79161bf50288f3e2688d06092fc3b74'},\n",
       "   'dob': {'date': '1951-09-11T15:20:48.514Z', 'age': 72},\n",
       "   'registered': {'date': '2004-07-15T03:40:14.964Z', 'age': 19},\n",
       "   'phone': '(096) P71-3614',\n",
       "   'cell': '(099) A56-4029',\n",
       "   'id': {'name': '', 'value': None},\n",
       "   'picture': {'large': 'https://randomuser.me/api/portraits/men/0.jpg',\n",
       "    'medium': 'https://randomuser.me/api/portraits/med/men/0.jpg',\n",
       "    'thumbnail': 'https://randomuser.me/api/portraits/thumb/men/0.jpg'},\n",
       "   'nat': 'UA'},\n",
       "  {'gender': 'male',\n",
       "   'name': {'title': 'Mr', 'first': 'Victor', 'last': 'Fernandes'},\n",
       "   'location': {'street': {'number': 6972, 'name': 'Rua Dom Pedro Ii '},\n",
       "    'city': 'Campo Grande',\n",
       "    'state': 'Sergipe',\n",
       "    'country': 'Brazil',\n",
       "    'postcode': 97905,\n",
       "    'coordinates': {'latitude': '-67.2880', 'longitude': '-176.4817'},\n",
       "    'timezone': {'offset': '+6:00', 'description': 'Almaty, Dhaka, Colombo'}},\n",
       "   'email': 'victor.fernandes@example.com',\n",
       "   'login': {'uuid': 'bf973465-8d20-45bc-91fc-a37989959b83',\n",
       "    'username': 'redlion538',\n",
       "    'password': 'yourmom',\n",
       "    'salt': 'PJNaY1yh',\n",
       "    'md5': '321cc248dd7b1f8ab26ff0637511bca2',\n",
       "    'sha1': '5b03d852679364a40c2ff30be18b53cae143a759',\n",
       "    'sha256': '21d0af32bc6f96bc43a17c817379560ab20207a936f1d3c8ac1d5560e4a26f1d'},\n",
       "   'dob': {'date': '1980-08-13T07:27:25.034Z', 'age': 43},\n",
       "   'registered': {'date': '2018-02-09T10:30:35.804Z', 'age': 6},\n",
       "   'phone': '(78) 1046-0066',\n",
       "   'cell': '(31) 7137-5636',\n",
       "   'id': {'name': 'CPF', 'value': '593.972.320-64'},\n",
       "   'picture': {'large': 'https://randomuser.me/api/portraits/men/33.jpg',\n",
       "    'medium': 'https://randomuser.me/api/portraits/med/men/33.jpg',\n",
       "    'thumbnail': 'https://randomuser.me/api/portraits/thumb/men/33.jpg'},\n",
       "   'nat': 'BR'},\n",
       "  {'gender': 'male',\n",
       "   'name': {'title': 'Mr', 'first': 'Lukas', 'last': 'Dupont'},\n",
       "   'location': {'street': {'number': 3250, 'name': 'Quai Charles-De-Gaulle'},\n",
       "    'city': 'Tourcoing',\n",
       "    'state': 'Jura',\n",
       "    'country': 'France',\n",
       "    'postcode': 61667,\n",
       "    'coordinates': {'latitude': '22.0462', 'longitude': '-155.7499'},\n",
       "    'timezone': {'offset': '+3:30', 'description': 'Tehran'}},\n",
       "   'email': 'lukas.dupont@example.com',\n",
       "   'login': {'uuid': '7745e3c5-7f4d-4804-a026-15066f0a77b1',\n",
       "    'username': 'browngoose794',\n",
       "    'password': 'senna',\n",
       "    'salt': 'cLowl3hZ',\n",
       "    'md5': 'a2a66ce13a8f0f826bf381c96b894eb6',\n",
       "    'sha1': '66538b637d63be0b5e94ed9d6c7df9fb5ca7bee8',\n",
       "    'sha256': '1c0df03e45de984a5c40f641d9590ba45559e4de43c17a0088beb810bafb7135'},\n",
       "   'dob': {'date': '1988-12-13T11:24:12.841Z', 'age': 35},\n",
       "   'registered': {'date': '2011-12-06T06:39:22.197Z', 'age': 12},\n",
       "   'phone': '03-88-17-69-53',\n",
       "   'cell': '06-24-10-91-55',\n",
       "   'id': {'name': 'INSEE', 'value': '1881117976297 19'},\n",
       "   'picture': {'large': 'https://randomuser.me/api/portraits/men/86.jpg',\n",
       "    'medium': 'https://randomuser.me/api/portraits/med/men/86.jpg',\n",
       "    'thumbnail': 'https://randomuser.me/api/portraits/thumb/men/86.jpg'},\n",
       "   'nat': 'FR'},\n",
       "  {'gender': 'male',\n",
       "   'name': {'title': 'Mr', 'first': 'Zack', 'last': 'Warren'},\n",
       "   'location': {'street': {'number': 2628, 'name': 'Fairview St'},\n",
       "    'city': 'Winston–Salem',\n",
       "    'state': 'North Dakota',\n",
       "    'country': 'United States',\n",
       "    'postcode': 47064,\n",
       "    'coordinates': {'latitude': '67.6185', 'longitude': '-154.4179'},\n",
       "    'timezone': {'offset': '+10:00',\n",
       "     'description': 'Eastern Australia, Guam, Vladivostok'}},\n",
       "   'email': 'zack.warren@example.com',\n",
       "   'login': {'uuid': 'ee698a8f-00fe-4172-82ec-ab8f87a271cc',\n",
       "    'username': 'lazybear626',\n",
       "    'password': 'erika',\n",
       "    'salt': 'hsI8C7lJ',\n",
       "    'md5': '346cc4857b93c44b6fd49a15dd65f5b7',\n",
       "    'sha1': 'c22ca7fd55f8d3ae1ee9f0694bd1a3e543fec224',\n",
       "    'sha256': '185c1b8db9d56696690d04c206b70b782cc3a1962f9571899a04de872f363d25'},\n",
       "   'dob': {'date': '1951-03-23T05:16:11.707Z', 'age': 73},\n",
       "   'registered': {'date': '2006-12-01T22:00:35.903Z', 'age': 17},\n",
       "   'phone': '(622) 697-5982',\n",
       "   'cell': '(968) 678-8415',\n",
       "   'id': {'name': 'SSN', 'value': '369-81-3698'},\n",
       "   'picture': {'large': 'https://randomuser.me/api/portraits/men/38.jpg',\n",
       "    'medium': 'https://randomuser.me/api/portraits/med/men/38.jpg',\n",
       "    'thumbnail': 'https://randomuser.me/api/portraits/thumb/men/38.jpg'},\n",
       "   'nat': 'US'},\n",
       "  {'gender': 'male',\n",
       "   'name': {'title': 'Mr', 'first': 'Shaurya', 'last': 'Ramesh'},\n",
       "   'location': {'street': {'number': 8452, 'name': 'Tripolia Bazar'},\n",
       "    'city': 'Bulandshahr',\n",
       "    'state': 'Manipur',\n",
       "    'country': 'India',\n",
       "    'postcode': 83117,\n",
       "    'coordinates': {'latitude': '72.6589', 'longitude': '139.7816'},\n",
       "    'timezone': {'offset': '+4:30', 'description': 'Kabul'}},\n",
       "   'email': 'shaurya.ramesh@example.com',\n",
       "   'login': {'uuid': 'cb288508-3bd2-44f2-b426-b6a403cdc8ff',\n",
       "    'username': 'blueostrich915',\n",
       "    'password': 'molson',\n",
       "    'salt': 'r1SPcGMI',\n",
       "    'md5': 'f751e47ed35847627438dc4a52cfaae9',\n",
       "    'sha1': '17b90da9b37b41bedee3cb5b6043854fa2541a7a',\n",
       "    'sha256': '796592c83e27cd55799e4cb264cfd591d278df9936e2a98769fe0ce2ec7e6223'},\n",
       "   'dob': {'date': '1990-09-07T09:09:23.948Z', 'age': 33},\n",
       "   'registered': {'date': '2016-12-13T04:07:35.065Z', 'age': 7},\n",
       "   'phone': '8749250650',\n",
       "   'cell': '7257588456',\n",
       "   'id': {'name': 'UIDAI', 'value': '204327234111'},\n",
       "   'picture': {'large': 'https://randomuser.me/api/portraits/men/36.jpg',\n",
       "    'medium': 'https://randomuser.me/api/portraits/med/men/36.jpg',\n",
       "    'thumbnail': 'https://randomuser.me/api/portraits/thumb/men/36.jpg'},\n",
       "   'nat': 'IN'}],\n",
       " 'info': {'seed': 'dd675aa069f468ba',\n",
       "  'results': 10,\n",
       "  'page': 1,\n",
       "  'version': '1.4'}}"
      ]
     },
     "execution_count": 17,
     "metadata": {},
     "output_type": "execute_result"
    }
   ],
   "source": [
    "data"
   ]
  },
  {
   "cell_type": "code",
   "execution_count": 18,
   "metadata": {},
   "outputs": [
    {
     "name": "stdout",
     "output_type": "stream",
     "text": [
      "{'gender': 'male', 'name': {'title': 'Mr', 'first': 'Bently', 'last': 'Lo'}, 'location': {'street': {'number': 5683, 'name': 'Dalhousie Ave'}, 'city': 'Sutton', 'state': 'Ontario', 'country': 'Canada', 'postcode': 'K0I 0K3', 'coordinates': {'latitude': '-65.0142', 'longitude': '-119.4547'}, 'timezone': {'offset': '-4:00', 'description': 'Atlantic Time (Canada), Caracas, La Paz'}}, 'email': 'bently.lo@example.com', 'login': {'uuid': '8495da3a-2a41-4d5d-9d82-2bc374921204', 'username': 'ticklishleopard214', 'password': 'fresh', 'salt': 'PkQsh3u1', 'md5': 'd158a4f502adcceae384b4d453af944f', 'sha1': '9107066df007177757f2bce788d08711d52fb21f', 'sha256': 'b73b8257c8f4cf636a70ab2bbf5ddc168e261fb2d67f5a14403beed8a5032d84'}, 'dob': {'date': '1954-10-12T13:36:03.224Z', 'age': 69}, 'registered': {'date': '2017-04-29T15:14:37.023Z', 'age': 7}, 'phone': 'F42 Q10-1029', 'cell': 'N84 O60-1483', 'id': {'name': 'SIN', 'value': '928502301'}, 'picture': {'large': 'https://randomuser.me/api/portraits/men/80.jpg', 'medium': 'https://randomuser.me/api/portraits/med/men/80.jpg', 'thumbnail': 'https://randomuser.me/api/portraits/thumb/men/80.jpg'}, 'nat': 'CA'}\n"
     ]
    }
   ],
   "source": [
    "print(data[\"results\"][0])"
   ]
  },
  {
   "cell_type": "markdown",
   "metadata": {},
   "source": [
    "# 21. Loop through the dictionary and print all first names"
   ]
  },
  {
   "cell_type": "code",
   "execution_count": 19,
   "metadata": {},
   "outputs": [
    {
     "name": "stdout",
     "output_type": "stream",
     "text": [
      "Bently\n",
      "Alvin\n",
      "Éric\n",
      "Manuel\n",
      "Isaiah\n",
      "Vognedar\n",
      "Victor\n",
      "Lukas\n",
      "Zack\n",
      "Shaurya\n"
     ]
    }
   ],
   "source": [
    "for name in data[\"results\"]:\n",
    "    print(name[\"name\"][\"first\"])"
   ]
  },
  {
   "cell_type": "markdown",
   "metadata": {},
   "source": [
    "# 23. Print out all the names of the astronauts who are right now in space.\n"
   ]
  },
  {
   "cell_type": "code",
   "execution_count": 23,
   "metadata": {},
   "outputs": [],
   "source": [
    "response = requests.get(\"http://api.open-notify.org/astros.json\")\n",
    "astronaut_data = json.loads(response.text)"
   ]
  },
  {
   "cell_type": "code",
   "execution_count": 24,
   "metadata": {},
   "outputs": [
    {
     "data": {
      "text/plain": [
       "[{'name': 'Jasmin Moghbeli', 'craft': 'ISS'},\n",
       " {'name': 'Andreas Mogensen', 'craft': 'ISS'},\n",
       " {'name': 'Satoshi Furukawa', 'craft': 'ISS'},\n",
       " {'name': 'Konstantin Borisov', 'craft': 'ISS'},\n",
       " {'name': 'Oleg Kononenko', 'craft': 'ISS'},\n",
       " {'name': 'Nikolai Chub', 'craft': 'ISS'},\n",
       " {'name': \"Loral O'Hara\", 'craft': 'ISS'}]"
      ]
     },
     "execution_count": 24,
     "metadata": {},
     "output_type": "execute_result"
    }
   ],
   "source": [
    "astronaut_data[\"people\"]"
   ]
  },
  {
   "cell_type": "code",
   "execution_count": 25,
   "metadata": {},
   "outputs": [
    {
     "data": {
      "text/plain": [
       "7"
      ]
     },
     "execution_count": 25,
     "metadata": {},
     "output_type": "execute_result"
    }
   ],
   "source": [
    "len(astronaut_data[\"people\"])"
   ]
  },
  {
   "cell_type": "code",
   "execution_count": 26,
   "metadata": {},
   "outputs": [
    {
     "name": "stdout",
     "output_type": "stream",
     "text": [
      "'Jasmin Moghbeli'\n",
      "'Andreas Mogensen'\n",
      "'Satoshi Furukawa'\n",
      "'Konstantin Borisov'\n",
      "'Oleg Kononenko'\n",
      "'Nikolai Chub'\n",
      "\"Loral O'Hara\"\n"
     ]
    }
   ],
   "source": [
    "for astronaut in astronaut_data[\"people\"]:\n",
    "    pprint(astronaut[\"name\"])"
   ]
  }
 ],
 "metadata": {
  "kernelspec": {
   "display_name": "Python 3",
   "language": "python",
   "name": "python3"
  },
  "language_info": {
   "codemirror_mode": {
    "name": "ipython",
    "version": 3
   },
   "file_extension": ".py",
   "mimetype": "text/x-python",
   "name": "python",
   "nbconvert_exporter": "python",
   "pygments_lexer": "ipython3",
   "version": "3.11.6"
  }
 },
 "nbformat": 4,
 "nbformat_minor": 2
}
